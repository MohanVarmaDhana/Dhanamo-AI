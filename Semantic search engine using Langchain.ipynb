{
  "nbformat": 4,
  "nbformat_minor": 0,
  "metadata": {
    "colab": {
      "provenance": [],
      "authorship_tag": "ABX9TyMWJvO784Fnz010NvcAl4E/",
      "include_colab_link": true
    },
    "kernelspec": {
      "name": "python3",
      "display_name": "Python 3"
    },
    "language_info": {
      "name": "python"
    }
  },
  "cells": [
    {
      "cell_type": "markdown",
      "metadata": {
        "id": "view-in-github",
        "colab_type": "text"
      },
      "source": [
        "<a href=\"https://colab.research.google.com/github/MohanVarmaDhana/Dhanamo-AI/blob/main/Semantic%20search%20engine%20using%20Langchain.ipynb\" target=\"_parent\"><img src=\"https://colab.research.google.com/assets/colab-badge.svg\" alt=\"Open In Colab\"/></a>"
      ]
    },
    {
      "cell_type": "code",
      "execution_count": 9,
      "metadata": {
        "id": "dzzuS2VImGrb",
        "colab": {
          "base_uri": "https://localhost:8080/"
        },
        "outputId": "731e2de3-f3a9-4798-b05f-87aead359a52"
      },
      "outputs": [
        {
          "output_type": "stream",
          "name": "stdout",
          "text": [
            "{'version': '6.9', 'hitCount': 7756, 'nextCursorMark': 'AoIIQJn5fSg1MjY0MjM2Ng==', 'nextPageUrl': 'https://www.ebi.ac.uk/europepmc/webservices/rest/search?query=large language models in pharma&cursorMark=AoIIQJn5fSg1MjY0MjM2Ng==&resultType=core&pageSize=1&format=json', 'request': {'queryString': 'large language models in pharma', 'resultType': 'core', 'cursorMark': '*', 'pageSize': 1, 'sort': '', 'synonym': False}, 'resultList': {'result': [{'id': '40112233', 'source': 'MED', 'pmid': '40112233', 'pmcid': 'PMC11949217', 'fullTextIdList': {'fullTextId': ['PMC11949217']}, 'doi': '10.1200/cci-24-00230', 'title': 'Large Language Models as Decision-Making Tools in Oncology: Comparing Artificial Intelligence Suggestions and Expert Recommendations.', 'authorString': 'Ah-Thiane L, Heudel PE, Campone M, Robert M, Brillaud-Meflah V, Rousseau C, Le Blanc-Onfroy M, Tomaszewski F, Supiot S, Perennec T, Mervoyer A, Frenel JS.', 'authorList': {'author': [{'fullName': 'Ah-Thiane L', 'firstName': 'Loic', 'lastName': 'Ah-Thiane', 'initials': 'L', 'authorId': {'type': 'ORCID', 'value': '0000-0003-4978-1912'}, 'authorAffiliationDetailsList': {'authorAffiliation': [{'affiliation': 'Department of Radiotherapy, ICO Rene Gauducheau, Saint-Herblain, France.'}]}}, {'fullName': 'Heudel PE', 'firstName': 'Pierre-Etienne', 'lastName': 'Heudel', 'initials': 'PE', 'authorId': {'type': 'ORCID', 'value': '0000-0002-2155-549X'}, 'authorAffiliationDetailsList': {'authorAffiliation': [{'affiliation': 'Department of Medical Oncology, Center Léon Bérard, Lyon, France.'}]}}, {'fullName': 'Campone M', 'firstName': 'Mario', 'lastName': 'Campone', 'initials': 'M', 'authorAffiliationDetailsList': {'authorAffiliation': [{'affiliation': 'Department of Medical Oncology, ICO Rene Gauducheau, Saint-Herblain, France.'}]}}, {'fullName': 'Robert M', 'firstName': 'Marie', 'lastName': 'Robert', 'initials': 'M', 'authorAffiliationDetailsList': {'authorAffiliation': [{'affiliation': 'Department of Medical Oncology, ICO Rene Gauducheau, Saint-Herblain, France.'}]}}, {'fullName': 'Brillaud-Meflah V', 'firstName': 'Victoire', 'lastName': 'Brillaud-Meflah', 'initials': 'V', 'authorAffiliationDetailsList': {'authorAffiliation': [{'affiliation': 'Department of Surgical Oncology, ICO Rene Gauducheau, Saint-Herblain, France.'}]}}, {'fullName': 'Rousseau C', 'firstName': 'Caroline', 'lastName': 'Rousseau', 'initials': 'C', 'authorId': {'type': 'ORCID', 'value': '0000-0002-0455-0523'}, 'authorAffiliationDetailsList': {'authorAffiliation': [{'affiliation': 'Department of Nuclear Medicine, ICO Rene Gauducheau, Saint-Herblain, France.'}]}}, {'fullName': 'Le Blanc-Onfroy M', 'firstName': 'Magali', 'lastName': 'Le Blanc-Onfroy', 'initials': 'M', 'authorAffiliationDetailsList': {'authorAffiliation': [{'affiliation': 'Department of Radiotherapy, ICO Rene Gauducheau, Saint-Herblain, France.'}]}}, {'fullName': 'Tomaszewski F', 'firstName': 'Florine', 'lastName': 'Tomaszewski', 'initials': 'F', 'authorAffiliationDetailsList': {'authorAffiliation': [{'affiliation': 'Department of Radiotherapy, ICO Rene Gauducheau, Saint-Herblain, France.'}]}}, {'fullName': 'Supiot S', 'firstName': 'Stéphane', 'lastName': 'Supiot', 'initials': 'S', 'authorId': {'type': 'ORCID', 'value': '0000-0003-2094-1708'}, 'authorAffiliationDetailsList': {'authorAffiliation': [{'affiliation': 'Department of Radiotherapy, ICO Rene Gauducheau, Saint-Herblain, France.'}]}}, {'fullName': 'Perennec T', 'firstName': 'Tanguy', 'lastName': 'Perennec', 'initials': 'T', 'authorId': {'type': 'ORCID', 'value': '0000-0002-1118-2271'}, 'authorAffiliationDetailsList': {'authorAffiliation': [{'affiliation': 'Department of Radiotherapy, ICO Rene Gauducheau, Saint-Herblain, France.'}]}}, {'fullName': 'Mervoyer A', 'firstName': 'Augustin', 'lastName': 'Mervoyer', 'initials': 'A', 'authorAffiliationDetailsList': {'authorAffiliation': [{'affiliation': 'Department of Radiotherapy, ICO Rene Gauducheau, Saint-Herblain, France.'}]}}, {'fullName': 'Frenel JS', 'firstName': 'Jean-Sébastien', 'lastName': 'Frenel', 'initials': 'JS', 'authorId': {'type': 'ORCID', 'value': '0000-0002-5273-0561'}, 'authorAffiliationDetailsList': {'authorAffiliation': [{'affiliation': 'Department of Medical Oncology, ICO Rene Gauducheau, Saint-Herblain, France.'}]}}]}, 'authorIdList': {'authorId': [{'type': 'ORCID', 'value': '0000-0002-0455-0523'}, {'type': 'ORCID', 'value': '0000-0002-1118-2271'}, {'type': 'ORCID', 'value': '0000-0002-2155-549X'}, {'type': 'ORCID', 'value': '0000-0002-5273-0561'}, {'type': 'ORCID', 'value': '0000-0003-2094-1708'}, {'type': 'ORCID', 'value': '0000-0003-4978-1912'}]}, 'dataLinksTagsList': {'dataLinkstag': ['altmetrics']}, 'journalInfo': {'volume': '9', 'journalIssueId': 3906664, 'dateOfPublication': '2025 Mar', 'monthOfPublication': 3, 'yearOfPublication': 2025, 'printPublicationDate': '2025-03-01', 'journal': {'title': 'JCO clinical cancer informatics', 'medlineAbbreviation': 'JCO Clin Cancer Inform', 'issn': '2473-4276', 'essn': '2473-4276', 'isoabbreviation': 'JCO Clin Cancer Inform', 'nlmid': '101708809'}}, 'pubYear': '2025', 'pageInfo': 'e2400230', 'abstractText': \"<h4>Purpose</h4>To determine the accuracy of large language models (LLMs) in generating appropriate treatment options for patients with early breast cancer on the basis of their medical records.<h4>Materials and methods</h4>Retrospective study using anonymized medical records of patients with BC presented during multidisciplinary team meetings (MDTs) between January and April 2024. Three generalist artificial intelligence models (Claude3-Opus, GPT4-Turbo, and LLaMa3-70B) were used to generate treatment suggestions, which were compared with experts' decisions. The primary outcome was the rate of appropriate suggestions from the LLMs, compared with the reference experts' decisions. The secondary outcome was the LLMs' performances (F1 score and specificity) in generating appropriate suggestions for each treatment category.<h4>Results</h4>The rates of appropriate suggestions were 86.6% (97/112), 85.7% (96/112), and 75.0% (84/112) for Claude3-Opus, GPT4-Turbo, and LLaMa3-70B, respectively. No significant difference was found between Claude3-Opus and GPT4-Turbo (<i>P</i> = .85), but both tended to perform better than LLaMa3-70B (<i>P</i> = .027 and <i>P</i> = .043, respectively). LLMs showed high accuracy for adjuvant endocrine therapy and targeted therapy indications. However, they tended to overestimate the need for adjuvant radiotherapy and had variable performances in suggesting adjuvant chemotherapy and genomic tests.<h4>Conclusion</h4>LLMs, particularly Claude3-Opus and GPT4-Turbo, demonstrated promising accuracy in suggesting appropriate adjuvant treatments for patients with early BC on the basis of their medical records. Although LLMs showed limitations in validating surgery and indicating genomic tests, their performance in other treatment modalities highlights their potential to automate and augment decision making during MDTs. Further studies with fine-tuned LLMs and a prospective design are needed to demonstrate their utility in clinical practice.\", 'affiliation': 'Department of Radiotherapy, ICO Rene Gauducheau, Saint-Herblain, France.', 'publicationStatus': 'ppublish', 'language': 'eng', 'pubModel': 'Print-Electronic', 'pubTypeList': {'pubType': ['Comparative Study', 'research-article', 'Journal Article']}, 'meshHeadingList': {'meshHeading': [{'majorTopic_YN': 'N', 'descriptorName': 'Humans'}, {'majorTopic_YN': 'Y', 'descriptorName': 'Breast Neoplasms', 'meshQualifierList': {'meshQualifier': [{'abbreviation': 'TH', 'qualifierName': 'therapy', 'majorTopic_YN': 'N'}]}}, {'majorTopic_YN': 'N', 'descriptorName': 'Retrospective Studies'}, {'majorTopic_YN': 'N', 'descriptorName': 'Medical Oncology', 'meshQualifierList': {'meshQualifier': [{'abbreviation': 'MT', 'qualifierName': 'methods', 'majorTopic_YN': 'N'}, {'abbreviation': 'ST', 'qualifierName': 'standards', 'majorTopic_YN': 'N'}]}}, {'majorTopic_YN': 'Y', 'descriptorName': 'Artificial Intelligence'}, {'majorTopic_YN': 'N', 'descriptorName': 'Decision Support Systems, Clinical'}, {'majorTopic_YN': 'N', 'descriptorName': 'Adult'}, {'majorTopic_YN': 'N', 'descriptorName': 'Aged'}, {'majorTopic_YN': 'N', 'descriptorName': 'Middle Aged'}, {'majorTopic_YN': 'N', 'descriptorName': 'Female'}, {'majorTopic_YN': 'N', 'descriptorName': 'Clinical Decision-Making'}]}, 'subsetList': {'subset': [{'code': 'IM', 'name': 'Index Medicus'}]}, 'fullTextUrlList': {'fullTextUrl': [{'availability': 'Subscription required', 'availabilityCode': 'S', 'documentStyle': 'doi', 'site': 'DOI', 'url': 'https://doi.org/10.1200/CCI-24-00230'}, {'availability': 'Open access', 'availabilityCode': 'OA', 'documentStyle': 'html', 'site': 'Europe_PMC', 'url': 'https://europepmc.org/articles/PMC11949217'}, {'availability': 'Open access', 'availabilityCode': 'OA', 'documentStyle': 'pdf', 'site': 'Europe_PMC', 'url': 'https://europepmc.org/articles/PMC11949217?pdf=render'}]}, 'isOpenAccess': 'Y', 'inEPMC': 'Y', 'inPMC': 'Y', 'hasPDF': 'Y', 'hasBook': 'N', 'hasSuppl': 'N', 'citedByCount': 0, 'hasData': 'N', 'hasReferences': 'Y', 'hasTextMinedTerms': 'Y', 'hasDbCrossReferences': 'N', 'hasLabsLinks': 'Y', 'license': 'cc by-nc-nd', 'hasEvaluations': 'N', 'authMan': 'N', 'epmcAuthMan': 'N', 'nihAuthMan': 'N', 'hasTMAccessionNumbers': 'N', 'dateOfCompletion': '2025-03-20', 'dateOfCreation': '2025-03-20', 'firstIndexDate': '2025-03-21', 'fullTextReceivedDate': '2025-04-01', 'dateOfRevision': '2025-03-29', 'electronicPublicationDate': '2025-03-20', 'firstPublicationDate': '2025-03-20'}]}}\n",
            "Paper 1:\n",
            "Title: Large Language Models as Decision-Making Tools in Oncology: Comparing Artificial Intelligence Suggestions and Expert Recommendations.\n",
            "Abstract: <h4>Purpose</h4>To determine the accuracy of large language models (LLMs) in generating appropriate treatment options for patients with early breast cancer on the basis of their medical records.<h4>Materials and methods</h4>Retrospective study using anonymized medical records of patients with BC presented during multidisciplinary team meetings (MDTs) between January and April 2024. Three generalist artificial intelligence models (Claude3-Opus, GPT4-Turbo, and LLaMa3-70B) were used to generate treatment suggestions, which were compared with experts' decisions. The primary outcome was the rate of appropriate suggestions from the LLMs, compared with the reference experts' decisions. The secondary outcome was the LLMs' performances (F1 score and specificity) in generating appropriate suggestions for each treatment category.<h4>Results</h4>The rates of appropriate suggestions were 86.6% (97/112), 85.7% (96/112), and 75.0% (84/112) for Claude3-Opus, GPT4-Turbo, and LLaMa3-70B, respectively. No significant difference was found between Claude3-Opus and GPT4-Turbo (<i>P</i> = .85), but both tended to perform better than LLaMa3-70B (<i>P</i> = .027 and <i>P</i> = .043, respectively). LLMs showed high accuracy for adjuvant endocrine therapy and targeted therapy indications. However, they tended to overestimate the need for adjuvant radiotherapy and had variable performances in suggesting adjuvant chemotherapy and genomic tests.<h4>Conclusion</h4>LLMs, particularly Claude3-Opus and GPT4-Turbo, demonstrated promising accuracy in suggesting appropriate adjuvant treatments for patients with early BC on the basis of their medical records. Although LLMs showed limitations in validating surgery and indicating genomic tests, their performance in other treatment modalities highlights their potential to automate and augment decision making during MDTs. Further studies with fine-tuned LLMs and a prospective design are needed to demonstrate their utility in clinical practice.\n",
            "Full text not available.\n",
            "--------------------------------------------------------------------------------\n"
          ]
        }
      ],
      "source": [
        "import requests\n",
        "\n",
        "# Function to query Europe PMC API\n",
        "def query_europe_pmc(query, max_results=5):\n",
        "    base_url = \"https://www.ebi.ac.uk/europepmc/webservices/rest/search\"\n",
        "    params = {\n",
        "        \"query\": query,\n",
        "        \"resultType\": \"core\",  # 'core' gives the main information like title, authors, etc.\n",
        "        \"pageSize\": max_results,\n",
        "        \"format\": \"json\"  # Get data in JSON format\n",
        "    }\n",
        "\n",
        "    # Send GET request\n",
        "    response = requests.get(base_url, params=params)\n",
        "    data = response.json()\n",
        "    print(data)\n",
        "\n",
        "    # Check if results are returned\n",
        "    if data['hitCount'] > 0:\n",
        "        for i, doc in enumerate(data['resultList']['result']):\n",
        "            print(f\"Paper {i+1}:\")\n",
        "            print(f\"Title: {doc.get('title', 'N/A')}\")\n",
        "           # print(f\"Authors: {', '.join([author['name'] for author in doc.get('authorList', {}).get('author', [])]) if 'authorList' in doc else 'N/A'}\")\n",
        "            print(f\"Abstract: {doc.get('abstractText', 'N/A')}\")\n",
        "\n",
        "            # Check for full-text URL\n",
        "            full_text_url = doc.get('fullTextUrl', None)\n",
        "            if full_text_url:\n",
        "                print(f\"Full Text URL: {full_text_url}\")\n",
        "                download_paper(full_text_url)\n",
        "            else:\n",
        "                print(\"Full text not available.\")\n",
        "\n",
        "            print(\"-\" * 80)\n",
        "    else:\n",
        "        print(\"No results found.\")\n",
        "\n",
        "# Function to download the full paper\n",
        "def download_paper(url):\n",
        "    try:\n",
        "        # Check if the full text URL is a PDF or HTML link\n",
        "        if url.endswith('.pdf'):\n",
        "            response = requests.get(url)\n",
        "            filename = url.split('/')[-1]  # Get filename from URL\n",
        "            with open(filename, 'wb') as f:\n",
        "                f.write(response.content)\n",
        "            print(f\"Downloaded paper as {filename}\")\n",
        "        elif url.endswith('.html'):\n",
        "            response = requests.get(url)\n",
        "            filename = \"paper.html\"\n",
        "            with open(filename, 'w', encoding='utf-8') as f:\n",
        "                f.write(response.text)\n",
        "            print(f\"Downloaded paper as {filename}\")\n",
        "        else:\n",
        "            print(\"Unsupported file type.\")\n",
        "    except Exception as e:\n",
        "        print(f\"Failed to download the paper: {e}\")\n",
        "\n",
        "# Query example\n",
        "query_europe_pmc(\"large language models in pharma\", max_results=1)\n"
      ]
    },
    {
      "cell_type": "code",
      "source": [
        "!nslookup api.europepmc.org"
      ],
      "metadata": {
        "colab": {
          "base_uri": "https://localhost:8080/"
        },
        "id": "5VM4p7CNVA2o",
        "outputId": "5ef95f45-9ecf-47d5-82a3-2aaa0f4f8fdd"
      },
      "execution_count": 2,
      "outputs": [
        {
          "output_type": "stream",
          "name": "stdout",
          "text": [
            "Server:\t\t127.0.0.11\n",
            "Address:\t127.0.0.11#53\n",
            "\n",
            "** server can't find api.europepmc.org: NXDOMAIN\n",
            "\n"
          ]
        }
      ]
    },
    {
      "cell_type": "code",
      "source": [
        "import requests\n",
        "\n",
        "# Function to query Europe PMC API\n",
        "def query_europe_pmc(query, max_results=5):\n",
        "    base_url = \"https://www.ebi.ac.uk/europepmc/webservices/rest/search\"\n",
        "    params = {\n",
        "        \"query\": query,\n",
        "        \"resultType\": \"core\",  # 'core' gives the main information like title, authors, etc.\n",
        "        \"pageSize\": max_results,\n",
        "        \"format\": \"json\"  # Get data in JSON format\n",
        "    }\n",
        "\n",
        "    # Send GET request\n",
        "    response = requests.get(base_url, params=params)\n",
        "    data = response.json()\n",
        "\n",
        "    # Check if results are returned\n",
        "    if data['hitCount'] > 0:\n",
        "        for i, doc in enumerate(data['resultList']['result']):\n",
        "            print(f\"Paper {i+1}:\")\n",
        "            print(f\"Title: {doc.get('title', 'N/A')}\")\n",
        "            #print(f\"Authors: {', '.join([author['name'] for author in doc.get('authorList', {}).get('author', [])]) if 'authorList' in doc else 'N/A'}\")\n",
        "            print(f\"Abstract: {doc.get('abstractText', 'N/A')}\")\n",
        "\n",
        "            # Extract DOI or PMID\n",
        "            pmid = doc.get('pmid', None)\n",
        "            doi = doc.get('doi', None)\n",
        "\n",
        "            # Use PMID or DOI to get full text\n",
        "            if pmid:\n",
        "                print(f\"PMID: {pmid}\")\n",
        "                fetch_full_text(pmid)\n",
        "            elif doi:\n",
        "                print(f\"DOI: {doi}\")\n",
        "                fetch_full_text_by_doi(doi)\n",
        "            else:\n",
        "                print(\"No full text ID available.\")\n",
        "            print(\"-\" * 80)\n",
        "    else:\n",
        "        print(\"No results found.\")\n",
        "\n",
        "# Function to fetch full text using PMID\n",
        "def fetch_full_text(pmid):\n",
        "    # Construct the full-text URL using PMID\n",
        "    full_text_url = f\"https://europepmc.org/articles/{pmid}?blobtype=pdf\"\n",
        "    download_paper(full_text_url)\n",
        "\n",
        "# Function to fetch full text using DOI\n",
        "def fetch_full_text_by_doi(doi):\n",
        "    # Construct the full-text URL using DOI (Europe PMC often redirects to publisher)\n",
        "    full_text_url = f\"https://doi.org/{doi}\"\n",
        "    download_paper(full_text_url)\n",
        "\n",
        "# Function to download the paper\n",
        "def download_paper(article_url):\n",
        "    save_as= article_url.split('/')[-1]+'.pdf'\n",
        "    try:\n",
        "        # Set headers to mimic a browser (sometimes necessary)\n",
        "        headers = {\n",
        "            \"User-Agent\": \"Mozilla/5.0\"\n",
        "        }\n",
        "\n",
        "        # Send request\n",
        "        response = requests.get(article_url, headers=headers)\n",
        "\n",
        "        # Check if successful\n",
        "        if response.status_code == 200:\n",
        "            with open(save_as, \"wb\") as f:\n",
        "                f.write(response.content)\n",
        "            print(f\"PDF downloaded successfully and saved as '{save_as}'\")\n",
        "        else:\n",
        "            print(f\"Failed to download PDF. Status code: {response.status_code}\")\n",
        "    except Exception as e:\n",
        "        print(f\"Error: {e}\")\n",
        "\n",
        "# Query example\n",
        "query_europe_pmc(\"large language models in pharma\", max_results=3)\n"
      ],
      "metadata": {
        "colab": {
          "base_uri": "https://localhost:8080/",
          "height": 411
        },
        "id": "fhXTBfNIUufG",
        "outputId": "bcd8f84f-a0e9-441c-df2b-9ce113f18df9"
      },
      "execution_count": 16,
      "outputs": [
        {
          "output_type": "stream",
          "name": "stdout",
          "text": [
            "Paper 1:\n",
            "Title: Large Language Models as Decision-Making Tools in Oncology: Comparing Artificial Intelligence Suggestions and Expert Recommendations.\n",
            "Abstract: <h4>Purpose</h4>To determine the accuracy of large language models (LLMs) in generating appropriate treatment options for patients with early breast cancer on the basis of their medical records.<h4>Materials and methods</h4>Retrospective study using anonymized medical records of patients with BC presented during multidisciplinary team meetings (MDTs) between January and April 2024. Three generalist artificial intelligence models (Claude3-Opus, GPT4-Turbo, and LLaMa3-70B) were used to generate treatment suggestions, which were compared with experts' decisions. The primary outcome was the rate of appropriate suggestions from the LLMs, compared with the reference experts' decisions. The secondary outcome was the LLMs' performances (F1 score and specificity) in generating appropriate suggestions for each treatment category.<h4>Results</h4>The rates of appropriate suggestions were 86.6% (97/112), 85.7% (96/112), and 75.0% (84/112) for Claude3-Opus, GPT4-Turbo, and LLaMa3-70B, respectively. No significant difference was found between Claude3-Opus and GPT4-Turbo (<i>P</i> = .85), but both tended to perform better than LLaMa3-70B (<i>P</i> = .027 and <i>P</i> = .043, respectively). LLMs showed high accuracy for adjuvant endocrine therapy and targeted therapy indications. However, they tended to overestimate the need for adjuvant radiotherapy and had variable performances in suggesting adjuvant chemotherapy and genomic tests.<h4>Conclusion</h4>LLMs, particularly Claude3-Opus and GPT4-Turbo, demonstrated promising accuracy in suggesting appropriate adjuvant treatments for patients with early BC on the basis of their medical records. Although LLMs showed limitations in validating surgery and indicating genomic tests, their performance in other treatment modalities highlights their potential to automate and augment decision making during MDTs. Further studies with fine-tuned LLMs and a prospective design are needed to demonstrate their utility in clinical practice.\n",
            "PMID: 40112233\n"
          ]
        },
        {
          "output_type": "error",
          "ename": "NameError",
          "evalue": "name 'url' is not defined",
          "traceback": [
            "\u001b[0;31m---------------------------------------------------------------------------\u001b[0m",
            "\u001b[0;31mNameError\u001b[0m                                 Traceback (most recent call last)",
            "\u001b[0;32m<ipython-input-16-b7c76635c6d8>\u001b[0m in \u001b[0;36m<cell line: 0>\u001b[0;34m()\u001b[0m\n\u001b[1;32m     75\u001b[0m \u001b[0;34m\u001b[0m\u001b[0m\n\u001b[1;32m     76\u001b[0m \u001b[0;31m# Query example\u001b[0m\u001b[0;34m\u001b[0m\u001b[0;34m\u001b[0m\u001b[0m\n\u001b[0;32m---> 77\u001b[0;31m \u001b[0mquery_europe_pmc\u001b[0m\u001b[0;34m(\u001b[0m\u001b[0;34m\"large language models in pharma\"\u001b[0m\u001b[0;34m,\u001b[0m \u001b[0mmax_results\u001b[0m\u001b[0;34m=\u001b[0m\u001b[0;36m3\u001b[0m\u001b[0;34m)\u001b[0m\u001b[0;34m\u001b[0m\u001b[0;34m\u001b[0m\u001b[0m\n\u001b[0m",
            "\u001b[0;32m<ipython-input-16-b7c76635c6d8>\u001b[0m in \u001b[0;36mquery_europe_pmc\u001b[0;34m(query, max_results)\u001b[0m\n\u001b[1;32m     30\u001b[0m             \u001b[0;32mif\u001b[0m \u001b[0mpmid\u001b[0m\u001b[0;34m:\u001b[0m\u001b[0;34m\u001b[0m\u001b[0;34m\u001b[0m\u001b[0m\n\u001b[1;32m     31\u001b[0m                 \u001b[0mprint\u001b[0m\u001b[0;34m(\u001b[0m\u001b[0;34mf\"PMID: {pmid}\"\u001b[0m\u001b[0;34m)\u001b[0m\u001b[0;34m\u001b[0m\u001b[0;34m\u001b[0m\u001b[0m\n\u001b[0;32m---> 32\u001b[0;31m                 \u001b[0mfetch_full_text\u001b[0m\u001b[0;34m(\u001b[0m\u001b[0mpmid\u001b[0m\u001b[0;34m)\u001b[0m\u001b[0;34m\u001b[0m\u001b[0;34m\u001b[0m\u001b[0m\n\u001b[0m\u001b[1;32m     33\u001b[0m             \u001b[0;32melif\u001b[0m \u001b[0mdoi\u001b[0m\u001b[0;34m:\u001b[0m\u001b[0;34m\u001b[0m\u001b[0;34m\u001b[0m\u001b[0m\n\u001b[1;32m     34\u001b[0m                 \u001b[0mprint\u001b[0m\u001b[0;34m(\u001b[0m\u001b[0;34mf\"DOI: {doi}\"\u001b[0m\u001b[0;34m)\u001b[0m\u001b[0;34m\u001b[0m\u001b[0;34m\u001b[0m\u001b[0m\n",
            "\u001b[0;32m<ipython-input-16-b7c76635c6d8>\u001b[0m in \u001b[0;36mfetch_full_text\u001b[0;34m(pmid)\u001b[0m\n\u001b[1;32m     44\u001b[0m     \u001b[0;31m# Construct the full-text URL using PMID\u001b[0m\u001b[0;34m\u001b[0m\u001b[0;34m\u001b[0m\u001b[0m\n\u001b[1;32m     45\u001b[0m     \u001b[0mfull_text_url\u001b[0m \u001b[0;34m=\u001b[0m \u001b[0;34mf\"https://europepmc.org/articles/{pmid}?blobtype=pdf\"\u001b[0m\u001b[0;34m\u001b[0m\u001b[0;34m\u001b[0m\u001b[0m\n\u001b[0;32m---> 46\u001b[0;31m     \u001b[0mdownload_paper\u001b[0m\u001b[0;34m(\u001b[0m\u001b[0mfull_text_url\u001b[0m\u001b[0;34m)\u001b[0m\u001b[0;34m\u001b[0m\u001b[0;34m\u001b[0m\u001b[0m\n\u001b[0m\u001b[1;32m     47\u001b[0m \u001b[0;34m\u001b[0m\u001b[0m\n\u001b[1;32m     48\u001b[0m \u001b[0;31m# Function to fetch full text using DOI\u001b[0m\u001b[0;34m\u001b[0m\u001b[0;34m\u001b[0m\u001b[0m\n",
            "\u001b[0;32m<ipython-input-16-b7c76635c6d8>\u001b[0m in \u001b[0;36mdownload_paper\u001b[0;34m(article_url)\u001b[0m\n\u001b[1;32m     54\u001b[0m \u001b[0;31m# Function to download the paper\u001b[0m\u001b[0;34m\u001b[0m\u001b[0;34m\u001b[0m\u001b[0m\n\u001b[1;32m     55\u001b[0m \u001b[0;32mdef\u001b[0m \u001b[0mdownload_paper\u001b[0m\u001b[0;34m(\u001b[0m\u001b[0marticle_url\u001b[0m\u001b[0;34m)\u001b[0m\u001b[0;34m:\u001b[0m\u001b[0;34m\u001b[0m\u001b[0;34m\u001b[0m\u001b[0m\n\u001b[0;32m---> 56\u001b[0;31m     \u001b[0msave_as\u001b[0m\u001b[0;34m=\u001b[0m \u001b[0murl\u001b[0m\u001b[0;34m.\u001b[0m\u001b[0msplit\u001b[0m\u001b[0;34m(\u001b[0m\u001b[0;34m'/'\u001b[0m\u001b[0;34m)\u001b[0m\u001b[0;34m[\u001b[0m\u001b[0;34m-\u001b[0m\u001b[0;36m1\u001b[0m\u001b[0;34m]\u001b[0m\u001b[0;34m+\u001b[0m\u001b[0;34m'.pdf'\u001b[0m\u001b[0;34m\u001b[0m\u001b[0;34m\u001b[0m\u001b[0m\n\u001b[0m\u001b[1;32m     57\u001b[0m     \u001b[0;32mtry\u001b[0m\u001b[0;34m:\u001b[0m\u001b[0;34m\u001b[0m\u001b[0;34m\u001b[0m\u001b[0m\n\u001b[1;32m     58\u001b[0m         \u001b[0;31m# Set headers to mimic a browser (sometimes necessary)\u001b[0m\u001b[0;34m\u001b[0m\u001b[0;34m\u001b[0m\u001b[0m\n",
            "\u001b[0;31mNameError\u001b[0m: name 'url' is not defined"
          ]
        }
      ]
    },
    {
      "cell_type": "code",
      "source": [
        "https://europepmc.org/articles/40112233"
      ],
      "metadata": {
        "id": "r0ueb3ftWyud"
      },
      "execution_count": null,
      "outputs": []
    },
    {
      "cell_type": "code",
      "source": [],
      "metadata": {
        "id": "A-ki4MiQZsir"
      },
      "execution_count": null,
      "outputs": []
    },
    {
      "cell_type": "code",
      "source": [],
      "metadata": {
        "id": "--l59f5WZsfx"
      },
      "execution_count": null,
      "outputs": []
    },
    {
      "cell_type": "code",
      "source": [
        "def download_paper(article_url, save_as=\"paper.pdf\"):\n",
        "    try:\n",
        "        # Set headers to mimic a browser (sometimes necessary)\n",
        "        headers = {\n",
        "            \"User-Agent\": \"Mozilla/5.0\"\n",
        "        }\n",
        "\n",
        "        # Send request\n",
        "        response = requests.get(article_url, headers=headers)\n",
        "\n",
        "        # Check if successful\n",
        "        if response.status_code == 200:\n",
        "            with open(save_as, \"wb\") as f:\n",
        "                f.write(response.content)\n",
        "            print(f\"PDF downloaded successfully and saved as '{save_as}'\")\n",
        "        else:\n",
        "            print(f\"Failed to download PDF. Status code: {response.status_code}\")\n",
        "    except Exception as e:\n",
        "        print(f\"Error: {e}\")\n",
        "\n",
        "# Example usage\n",
        "download_pdf_from_europepmc(\"https://europepmc.org/articles/PMC11949217?pdf=render\", \"PMC11949217.pdf\")"
      ],
      "metadata": {
        "colab": {
          "base_uri": "https://localhost:8080/"
        },
        "id": "vM6CTNRfZscs",
        "outputId": "0f078c05-ba92-40b8-b2f1-6e5097b225b6"
      },
      "execution_count": 14,
      "outputs": [
        {
          "output_type": "stream",
          "name": "stdout",
          "text": [
            "PDF downloaded successfully and saved as 'PMC11949217.pdf'\n"
          ]
        }
      ]
    },
    {
      "cell_type": "code",
      "source": [],
      "metadata": {
        "id": "FDWwol24ZsOw"
      },
      "execution_count": null,
      "outputs": []
    }
  ]
}