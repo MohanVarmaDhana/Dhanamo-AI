{
  "nbformat": 4,
  "nbformat_minor": 0,
  "metadata": {
    "colab": {
      "provenance": [],
      "authorship_tag": "ABX9TyMkdWoDI1IynMnUWzuiczze",
      "include_colab_link": true
    },
    "kernelspec": {
      "name": "python3",
      "display_name": "Python 3"
    },
    "language_info": {
      "name": "python"
    }
  },
  "cells": [
    {
      "cell_type": "markdown",
      "metadata": {
        "id": "view-in-github",
        "colab_type": "text"
      },
      "source": [
        "<a href=\"https://colab.research.google.com/github/MohanVarmaDhana/Dhanamo-AI/blob/main/Semantic%20search%20engine%20using%20Langchain.ipynb\" target=\"_parent\"><img src=\"https://colab.research.google.com/assets/colab-badge.svg\" alt=\"Open In Colab\"/></a>"
      ]
    },
    {
      "cell_type": "code",
      "execution_count": null,
      "metadata": {
        "id": "dzzuS2VImGrb",
        "colab": {
          "base_uri": "https://localhost:8080/"
        },
        "outputId": "731e2de3-f3a9-4798-b05f-87aead359a52"
      },
      "outputs": [
        {
          "output_type": "stream",
          "name": "stdout",
          "text": [
            "{'version': '6.9', 'hitCount': 7756, 'nextCursorMark': 'AoIIQJn5fSg1MjY0MjM2Ng==', 'nextPageUrl': 'https://www.ebi.ac.uk/europepmc/webservices/rest/search?query=large language models in pharma&cursorMark=AoIIQJn5fSg1MjY0MjM2Ng==&resultType=core&pageSize=1&format=json', 'request': {'queryString': 'large language models in pharma', 'resultType': 'core', 'cursorMark': '*', 'pageSize': 1, 'sort': '', 'synonym': False}, 'resultList': {'result': [{'id': '40112233', 'source': 'MED', 'pmid': '40112233', 'pmcid': 'PMC11949217', 'fullTextIdList': {'fullTextId': ['PMC11949217']}, 'doi': '10.1200/cci-24-00230', 'title': 'Large Language Models as Decision-Making Tools in Oncology: Comparing Artificial Intelligence Suggestions and Expert Recommendations.', 'authorString': 'Ah-Thiane L, Heudel PE, Campone M, Robert M, Brillaud-Meflah V, Rousseau C, Le Blanc-Onfroy M, Tomaszewski F, Supiot S, Perennec T, Mervoyer A, Frenel JS.', 'authorList': {'author': [{'fullName': 'Ah-Thiane L', 'firstName': 'Loic', 'lastName': 'Ah-Thiane', 'initials': 'L', 'authorId': {'type': 'ORCID', 'value': '0000-0003-4978-1912'}, 'authorAffiliationDetailsList': {'authorAffiliation': [{'affiliation': 'Department of Radiotherapy, ICO Rene Gauducheau, Saint-Herblain, France.'}]}}, {'fullName': 'Heudel PE', 'firstName': 'Pierre-Etienne', 'lastName': 'Heudel', 'initials': 'PE', 'authorId': {'type': 'ORCID', 'value': '0000-0002-2155-549X'}, 'authorAffiliationDetailsList': {'authorAffiliation': [{'affiliation': 'Department of Medical Oncology, Center Léon Bérard, Lyon, France.'}]}}, {'fullName': 'Campone M', 'firstName': 'Mario', 'lastName': 'Campone', 'initials': 'M', 'authorAffiliationDetailsList': {'authorAffiliation': [{'affiliation': 'Department of Medical Oncology, ICO Rene Gauducheau, Saint-Herblain, France.'}]}}, {'fullName': 'Robert M', 'firstName': 'Marie', 'lastName': 'Robert', 'initials': 'M', 'authorAffiliationDetailsList': {'authorAffiliation': [{'affiliation': 'Department of Medical Oncology, ICO Rene Gauducheau, Saint-Herblain, France.'}]}}, {'fullName': 'Brillaud-Meflah V', 'firstName': 'Victoire', 'lastName': 'Brillaud-Meflah', 'initials': 'V', 'authorAffiliationDetailsList': {'authorAffiliation': [{'affiliation': 'Department of Surgical Oncology, ICO Rene Gauducheau, Saint-Herblain, France.'}]}}, {'fullName': 'Rousseau C', 'firstName': 'Caroline', 'lastName': 'Rousseau', 'initials': 'C', 'authorId': {'type': 'ORCID', 'value': '0000-0002-0455-0523'}, 'authorAffiliationDetailsList': {'authorAffiliation': [{'affiliation': 'Department of Nuclear Medicine, ICO Rene Gauducheau, Saint-Herblain, France.'}]}}, {'fullName': 'Le Blanc-Onfroy M', 'firstName': 'Magali', 'lastName': 'Le Blanc-Onfroy', 'initials': 'M', 'authorAffiliationDetailsList': {'authorAffiliation': [{'affiliation': 'Department of Radiotherapy, ICO Rene Gauducheau, Saint-Herblain, France.'}]}}, {'fullName': 'Tomaszewski F', 'firstName': 'Florine', 'lastName': 'Tomaszewski', 'initials': 'F', 'authorAffiliationDetailsList': {'authorAffiliation': [{'affiliation': 'Department of Radiotherapy, ICO Rene Gauducheau, Saint-Herblain, France.'}]}}, {'fullName': 'Supiot S', 'firstName': 'Stéphane', 'lastName': 'Supiot', 'initials': 'S', 'authorId': {'type': 'ORCID', 'value': '0000-0003-2094-1708'}, 'authorAffiliationDetailsList': {'authorAffiliation': [{'affiliation': 'Department of Radiotherapy, ICO Rene Gauducheau, Saint-Herblain, France.'}]}}, {'fullName': 'Perennec T', 'firstName': 'Tanguy', 'lastName': 'Perennec', 'initials': 'T', 'authorId': {'type': 'ORCID', 'value': '0000-0002-1118-2271'}, 'authorAffiliationDetailsList': {'authorAffiliation': [{'affiliation': 'Department of Radiotherapy, ICO Rene Gauducheau, Saint-Herblain, France.'}]}}, {'fullName': 'Mervoyer A', 'firstName': 'Augustin', 'lastName': 'Mervoyer', 'initials': 'A', 'authorAffiliationDetailsList': {'authorAffiliation': [{'affiliation': 'Department of Radiotherapy, ICO Rene Gauducheau, Saint-Herblain, France.'}]}}, {'fullName': 'Frenel JS', 'firstName': 'Jean-Sébastien', 'lastName': 'Frenel', 'initials': 'JS', 'authorId': {'type': 'ORCID', 'value': '0000-0002-5273-0561'}, 'authorAffiliationDetailsList': {'authorAffiliation': [{'affiliation': 'Department of Medical Oncology, ICO Rene Gauducheau, Saint-Herblain, France.'}]}}]}, 'authorIdList': {'authorId': [{'type': 'ORCID', 'value': '0000-0002-0455-0523'}, {'type': 'ORCID', 'value': '0000-0002-1118-2271'}, {'type': 'ORCID', 'value': '0000-0002-2155-549X'}, {'type': 'ORCID', 'value': '0000-0002-5273-0561'}, {'type': 'ORCID', 'value': '0000-0003-2094-1708'}, {'type': 'ORCID', 'value': '0000-0003-4978-1912'}]}, 'dataLinksTagsList': {'dataLinkstag': ['altmetrics']}, 'journalInfo': {'volume': '9', 'journalIssueId': 3906664, 'dateOfPublication': '2025 Mar', 'monthOfPublication': 3, 'yearOfPublication': 2025, 'printPublicationDate': '2025-03-01', 'journal': {'title': 'JCO clinical cancer informatics', 'medlineAbbreviation': 'JCO Clin Cancer Inform', 'issn': '2473-4276', 'essn': '2473-4276', 'isoabbreviation': 'JCO Clin Cancer Inform', 'nlmid': '101708809'}}, 'pubYear': '2025', 'pageInfo': 'e2400230', 'abstractText': \"<h4>Purpose</h4>To determine the accuracy of large language models (LLMs) in generating appropriate treatment options for patients with early breast cancer on the basis of their medical records.<h4>Materials and methods</h4>Retrospective study using anonymized medical records of patients with BC presented during multidisciplinary team meetings (MDTs) between January and April 2024. Three generalist artificial intelligence models (Claude3-Opus, GPT4-Turbo, and LLaMa3-70B) were used to generate treatment suggestions, which were compared with experts' decisions. The primary outcome was the rate of appropriate suggestions from the LLMs, compared with the reference experts' decisions. The secondary outcome was the LLMs' performances (F1 score and specificity) in generating appropriate suggestions for each treatment category.<h4>Results</h4>The rates of appropriate suggestions were 86.6% (97/112), 85.7% (96/112), and 75.0% (84/112) for Claude3-Opus, GPT4-Turbo, and LLaMa3-70B, respectively. No significant difference was found between Claude3-Opus and GPT4-Turbo (<i>P</i> = .85), but both tended to perform better than LLaMa3-70B (<i>P</i> = .027 and <i>P</i> = .043, respectively). LLMs showed high accuracy for adjuvant endocrine therapy and targeted therapy indications. However, they tended to overestimate the need for adjuvant radiotherapy and had variable performances in suggesting adjuvant chemotherapy and genomic tests.<h4>Conclusion</h4>LLMs, particularly Claude3-Opus and GPT4-Turbo, demonstrated promising accuracy in suggesting appropriate adjuvant treatments for patients with early BC on the basis of their medical records. Although LLMs showed limitations in validating surgery and indicating genomic tests, their performance in other treatment modalities highlights their potential to automate and augment decision making during MDTs. Further studies with fine-tuned LLMs and a prospective design are needed to demonstrate their utility in clinical practice.\", 'affiliation': 'Department of Radiotherapy, ICO Rene Gauducheau, Saint-Herblain, France.', 'publicationStatus': 'ppublish', 'language': 'eng', 'pubModel': 'Print-Electronic', 'pubTypeList': {'pubType': ['Comparative Study', 'research-article', 'Journal Article']}, 'meshHeadingList': {'meshHeading': [{'majorTopic_YN': 'N', 'descriptorName': 'Humans'}, {'majorTopic_YN': 'Y', 'descriptorName': 'Breast Neoplasms', 'meshQualifierList': {'meshQualifier': [{'abbreviation': 'TH', 'qualifierName': 'therapy', 'majorTopic_YN': 'N'}]}}, {'majorTopic_YN': 'N', 'descriptorName': 'Retrospective Studies'}, {'majorTopic_YN': 'N', 'descriptorName': 'Medical Oncology', 'meshQualifierList': {'meshQualifier': [{'abbreviation': 'MT', 'qualifierName': 'methods', 'majorTopic_YN': 'N'}, {'abbreviation': 'ST', 'qualifierName': 'standards', 'majorTopic_YN': 'N'}]}}, {'majorTopic_YN': 'Y', 'descriptorName': 'Artificial Intelligence'}, {'majorTopic_YN': 'N', 'descriptorName': 'Decision Support Systems, Clinical'}, {'majorTopic_YN': 'N', 'descriptorName': 'Adult'}, {'majorTopic_YN': 'N', 'descriptorName': 'Aged'}, {'majorTopic_YN': 'N', 'descriptorName': 'Middle Aged'}, {'majorTopic_YN': 'N', 'descriptorName': 'Female'}, {'majorTopic_YN': 'N', 'descriptorName': 'Clinical Decision-Making'}]}, 'subsetList': {'subset': [{'code': 'IM', 'name': 'Index Medicus'}]}, 'fullTextUrlList': {'fullTextUrl': [{'availability': 'Subscription required', 'availabilityCode': 'S', 'documentStyle': 'doi', 'site': 'DOI', 'url': 'https://doi.org/10.1200/CCI-24-00230'}, {'availability': 'Open access', 'availabilityCode': 'OA', 'documentStyle': 'html', 'site': 'Europe_PMC', 'url': 'https://europepmc.org/articles/PMC11949217'}, {'availability': 'Open access', 'availabilityCode': 'OA', 'documentStyle': 'pdf', 'site': 'Europe_PMC', 'url': 'https://europepmc.org/articles/PMC11949217?pdf=render'}]}, 'isOpenAccess': 'Y', 'inEPMC': 'Y', 'inPMC': 'Y', 'hasPDF': 'Y', 'hasBook': 'N', 'hasSuppl': 'N', 'citedByCount': 0, 'hasData': 'N', 'hasReferences': 'Y', 'hasTextMinedTerms': 'Y', 'hasDbCrossReferences': 'N', 'hasLabsLinks': 'Y', 'license': 'cc by-nc-nd', 'hasEvaluations': 'N', 'authMan': 'N', 'epmcAuthMan': 'N', 'nihAuthMan': 'N', 'hasTMAccessionNumbers': 'N', 'dateOfCompletion': '2025-03-20', 'dateOfCreation': '2025-03-20', 'firstIndexDate': '2025-03-21', 'fullTextReceivedDate': '2025-04-01', 'dateOfRevision': '2025-03-29', 'electronicPublicationDate': '2025-03-20', 'firstPublicationDate': '2025-03-20'}]}}\n",
            "Paper 1:\n",
            "Title: Large Language Models as Decision-Making Tools in Oncology: Comparing Artificial Intelligence Suggestions and Expert Recommendations.\n",
            "Abstract: <h4>Purpose</h4>To determine the accuracy of large language models (LLMs) in generating appropriate treatment options for patients with early breast cancer on the basis of their medical records.<h4>Materials and methods</h4>Retrospective study using anonymized medical records of patients with BC presented during multidisciplinary team meetings (MDTs) between January and April 2024. Three generalist artificial intelligence models (Claude3-Opus, GPT4-Turbo, and LLaMa3-70B) were used to generate treatment suggestions, which were compared with experts' decisions. The primary outcome was the rate of appropriate suggestions from the LLMs, compared with the reference experts' decisions. The secondary outcome was the LLMs' performances (F1 score and specificity) in generating appropriate suggestions for each treatment category.<h4>Results</h4>The rates of appropriate suggestions were 86.6% (97/112), 85.7% (96/112), and 75.0% (84/112) for Claude3-Opus, GPT4-Turbo, and LLaMa3-70B, respectively. No significant difference was found between Claude3-Opus and GPT4-Turbo (<i>P</i> = .85), but both tended to perform better than LLaMa3-70B (<i>P</i> = .027 and <i>P</i> = .043, respectively). LLMs showed high accuracy for adjuvant endocrine therapy and targeted therapy indications. However, they tended to overestimate the need for adjuvant radiotherapy and had variable performances in suggesting adjuvant chemotherapy and genomic tests.<h4>Conclusion</h4>LLMs, particularly Claude3-Opus and GPT4-Turbo, demonstrated promising accuracy in suggesting appropriate adjuvant treatments for patients with early BC on the basis of their medical records. Although LLMs showed limitations in validating surgery and indicating genomic tests, their performance in other treatment modalities highlights their potential to automate and augment decision making during MDTs. Further studies with fine-tuned LLMs and a prospective design are needed to demonstrate their utility in clinical practice.\n",
            "Full text not available.\n",
            "--------------------------------------------------------------------------------\n"
          ]
        }
      ],
      "source": [
        "import requests\n",
        "\n",
        "# Function to query Europe PMC API\n",
        "def query_europe_pmc(query, max_results=5):\n",
        "    base_url = \"https://www.ebi.ac.uk/europepmc/webservices/rest/search\"\n",
        "    params = {\n",
        "        \"query\": query,\n",
        "        \"resultType\": \"core\",  # 'core' gives the main information like title, authors, etc.\n",
        "        \"pageSize\": max_results,\n",
        "        \"format\": \"json\"  # Get data in JSON format\n",
        "    }\n",
        "\n",
        "    # Send GET request\n",
        "    response = requests.get(base_url, params=params)\n",
        "    data = response.json()\n",
        "    print(data)\n",
        "\n",
        "    # Check if results are returned\n",
        "    if data['hitCount'] > 0:\n",
        "        for i, doc in enumerate(data['resultList']['result']):\n",
        "            print(f\"Paper {i+1}:\")\n",
        "            print(f\"Title: {doc.get('title', 'N/A')}\")\n",
        "           # print(f\"Authors: {', '.join([author['name'] for author in doc.get('authorList', {}).get('author', [])]) if 'authorList' in doc else 'N/A'}\")\n",
        "            print(f\"Abstract: {doc.get('abstractText', 'N/A')}\")\n",
        "\n",
        "            # Check for full-text URL\n",
        "            full_text_url = doc.get('fullTextUrl', None)\n",
        "            if full_text_url:\n",
        "                print(f\"Full Text URL: {full_text_url}\")\n",
        "                download_paper(full_text_url)\n",
        "            else:\n",
        "                print(\"Full text not available.\")\n",
        "\n",
        "            print(\"-\" * 80)\n",
        "    else:\n",
        "        print(\"No results found.\")\n",
        "\n",
        "# Function to download the full paper\n",
        "def download_paper(url):\n",
        "    try:\n",
        "        # Check if the full text URL is a PDF or HTML link\n",
        "        if url.endswith('.pdf'):\n",
        "            response = requests.get(url)\n",
        "            filename = url.split('/')[-1]  # Get filename from URL\n",
        "            with open(filename, 'wb') as f:\n",
        "                f.write(response.content)\n",
        "            print(f\"Downloaded paper as {filename}\")\n",
        "        elif url.endswith('.html'):\n",
        "            response = requests.get(url)\n",
        "            filename = \"paper.html\"\n",
        "            with open(filename, 'w', encoding='utf-8') as f:\n",
        "                f.write(response.text)\n",
        "            print(f\"Downloaded paper as {filename}\")\n",
        "        else:\n",
        "            print(\"Unsupported file type.\")\n",
        "    except Exception as e:\n",
        "        print(f\"Failed to download the paper: {e}\")\n",
        "\n",
        "# Query example\n",
        "query_europe_pmc(\"large language models in pharma\", max_results=1)\n"
      ]
    },
    {
      "cell_type": "code",
      "source": [
        "!nslookup api.europepmc.org"
      ],
      "metadata": {
        "colab": {
          "base_uri": "https://localhost:8080/"
        },
        "id": "5VM4p7CNVA2o",
        "outputId": "5ef95f45-9ecf-47d5-82a3-2aaa0f4f8fdd"
      },
      "execution_count": null,
      "outputs": [
        {
          "output_type": "stream",
          "name": "stdout",
          "text": [
            "Server:\t\t127.0.0.11\n",
            "Address:\t127.0.0.11#53\n",
            "\n",
            "** server can't find api.europepmc.org: NXDOMAIN\n",
            "\n"
          ]
        }
      ]
    },
    {
      "cell_type": "code",
      "source": [
        "import requests\n",
        "\n",
        "# Function to query Europe PMC API\n",
        "def query_europe_pmc(query, max_results=5):\n",
        "    base_url = \"https://www.ebi.ac.uk/europepmc/webservices/rest/search\"\n",
        "    params = {\n",
        "        \"query\": query,\n",
        "        \"resultType\": \"core\",  # 'core' gives the main information like title, authors, etc.\n",
        "        \"pageSize\": max_results,\n",
        "        \"format\": \"json\"  # Get data in JSON format\n",
        "    }\n",
        "\n",
        "    # Send GET request\n",
        "    response = requests.get(base_url, params=params)\n",
        "    data = response.json()\n",
        "\n",
        "    # Check if results are returned\n",
        "    if data['hitCount'] > 0:\n",
        "        for i, doc in enumerate(data['resultList']['result']):\n",
        "            print(f\"Paper {i+1}:\")\n",
        "            print(f\"Title: {doc.get('title', 'N/A')}\")\n",
        "            #print(f\"Authors: {', '.join([author['name'] for author in doc.get('authorList', {}).get('author', [])]) if 'authorList' in doc else 'N/A'}\")\n",
        "            #print(f\"Abstract: {doc.get('abstractText', 'N/A')}\")\n",
        "\n",
        "            # Extract DOI or PMID\n",
        "            pmid = doc.get('pmcid', None)\n",
        "            doi = doc.get('doi', None)\n",
        "\n",
        "            # Use PMID or DOI to get full text\n",
        "            if pmid:\n",
        "                print(f\"PMID: {pmid}\")\n",
        "                fetch_full_text(pmid)\n",
        "            elif doi:\n",
        "                print(f\"DOI: {doi}\")\n",
        "                fetch_full_text_by_doi(doi)\n",
        "            else:\n",
        "                print(\"No full text ID available.\")\n",
        "            print(\"-\" * 80)\n",
        "    else:\n",
        "        print(\"No results found.\")\n",
        "\n",
        "# Function to fetch full text using PMID\n",
        "def fetch_full_text(pmid):\n",
        "    # Construct the full-text URL using PMID\n",
        "    pmid = 'PMC'+pmid\n",
        "    full_text_url = f\"https://europepmc.org/articles/{pmid}?pdf=render\"\n",
        "    download_paper(full_text_url)\n",
        "\n",
        "# Function to fetch full text using DOI\n",
        "def fetch_full_text_by_doi(doi):\n",
        "    # Construct the full-text URL using DOI (Europe PMC often redirects to publisher)\n",
        "    full_text_url = f\"https://doi.org/{doi}\"\n",
        "    download_paper(full_text_url)\n",
        "\n",
        "# Function to download the paper\n",
        "def download_paper(article_url):\n",
        "    save_as= article_url.split('/')[-1].split('?')[0]+'.pdf'\n",
        "    try:\n",
        "        # Set headers to mimic a browser (sometimes necessary)\n",
        "        headers = {\n",
        "            \"User-Agent\": \"Mozilla/5.0\"\n",
        "        }\n",
        "\n",
        "        # Send request\n",
        "        response = requests.get(article_url, headers=headers)\n",
        "\n",
        "        # Check if successful\n",
        "        if response.status_code == 200:\n",
        "            with open(save_as, \"wb\") as f:\n",
        "                f.write(response.content)\n",
        "            print(f\"PDF downloaded successfully and saved as '{save_as}'\")\n",
        "        else:\n",
        "            print(f\"Failed to download PDF. Status code: {response.status_code}\")\n",
        "    except Exception as e:\n",
        "        print(f\"Error: {e}\")\n",
        "\n",
        "# Query example\n",
        "query_europe_pmc(\"Marketing in Pharma or Healthcare\", max_results=3)\n"
      ],
      "metadata": {
        "colab": {
          "base_uri": "https://localhost:8080/"
        },
        "id": "fhXTBfNIUufG",
        "outputId": "a0c3bdf3-dab2-4e15-df7c-6a15ae73497a"
      },
      "execution_count": 7,
      "outputs": [
        {
          "output_type": "stream",
          "name": "stdout",
          "text": [
            "{'version': '6.9', 'hitCount': 201808, 'nextCursorMark': 'AoIIQJIuzyg1MjIxMjU1Ng==', 'nextPageUrl': 'https://www.ebi.ac.uk/europepmc/webservices/rest/search?query=Marketing in Pharma or Healthcare&cursorMark=AoIIQJIuzyg1MjIxMjU1Ng==&resultType=core&pageSize=3&format=json', 'request': {'queryString': 'Marketing in Pharma or Healthcare', 'resultType': 'core', 'cursorMark': '*', 'pageSize': 3, 'sort': '', 'synonym': False}, 'resultList': {'result': [{'id': '40056372', 'source': 'MED', 'pmid': '40056372', 'pmcid': 'PMC12006214', 'fullTextIdList': {'fullTextId': ['PMC12006214']}, 'doi': '10.1007/s12325-025-03135-5', 'title': 'Safety of iGlarLixi in Japanese People with Type 2 Diabetes: A Post-marketing Database Study.', 'authorString': 'Kaneto H, Hatanaka M, Morimoto Y, Takahashi Y, Terauchi Y.', 'authorList': {'author': [{'fullName': 'Kaneto H', 'firstName': 'Hideaki', 'lastName': 'Kaneto', 'initials': 'H', 'authorId': {'type': 'ORCID', 'value': '0000-0001-7898-1943'}, 'authorAffiliationDetailsList': {'authorAffiliation': [{'affiliation': 'Department of Diabetes, Endocrinology and Metabolism, Kawasaki Medical School, Kurashiki, Japan.'}]}}, {'fullName': 'Hatanaka M', 'firstName': 'Makiko', 'lastName': 'Hatanaka', 'initials': 'M', 'authorAffiliationDetailsList': {'authorAffiliation': [{'affiliation': 'Post Authorization Regulatory Study, Medical Affairs, Sanofi K.K., Tokyo, Japan.'}]}}, {'fullName': 'Morimoto Y', 'firstName': 'Yukiko', 'lastName': 'Morimoto', 'initials': 'Y', 'authorAffiliationDetailsList': {'authorAffiliation': [{'affiliation': 'Real World Evidence Generation Partnering, Medical Affairs, Sanofi K.K., Tokyo, Japan.'}]}}, {'fullName': 'Takahashi Y', 'firstName': 'Yoko', 'lastName': 'Takahashi', 'initials': 'Y', 'authorId': {'type': 'ORCID', 'value': '0000-0003-2481-9574'}, 'authorAffiliationDetailsList': {'authorAffiliation': [{'affiliation': 'General Medicine Medical, Sanofi K.K., Opera City Tower 3-20-2, Nishi-Shinjuku, Shinjuku-ku, Tokyo, 163-1488, Japan. Yoko.Takahashi@sanofi.com.'}]}}, {'fullName': 'Terauchi Y', 'firstName': 'Yasuo', 'lastName': 'Terauchi', 'initials': 'Y', 'authorId': {'type': 'ORCID', 'value': '0000-0002-8872-3697'}, 'authorAffiliationDetailsList': {'authorAffiliation': [{'affiliation': 'Department of Endocrinology and Metabolism, Graduate School of Medicine, Yokohama City University, Yokohama, Japan.'}]}}]}, 'authorIdList': {'authorId': [{'type': 'ORCID', 'value': '0000-0001-7898-1943'}, {'type': 'ORCID', 'value': '0000-0002-8872-3697'}, {'type': 'ORCID', 'value': '0000-0003-2481-9574'}]}, 'journalInfo': {'issue': '5', 'volume': '42', 'journalIssueId': 3930743, 'dateOfPublication': '2025 May', 'monthOfPublication': 5, 'yearOfPublication': 2025, 'printPublicationDate': '2025-05-01', 'journal': {'title': 'Advances in therapy', 'medlineAbbreviation': 'Adv Ther', 'isoabbreviation': 'Adv Ther', 'nlmid': '8611864', 'issn': '0741-238X', 'essn': '1865-8652'}}, 'pubYear': '2025', 'pageInfo': '2168-2189', 'abstractText': '<h4>Introduction</h4>In this post-marketing study in Japan, the occurrence of hospital-treated hypoglycaemia and severe hyperglycaemia requiring inpatient treatment was evaluated in various cohorts of people with type 2 diabetes (T2D) newly switched to iGlarLixi, a titratable, once-daily, fixed-ratio combination of long-acting insulin glargine 100 U/mL (iGlar-100) and a glucagon-like peptide-1 receptor agonist (GLP-1 RA, lixisenatide).<h4>Methods</h4>In this retrospective, observational study, acute-care hospital data from adults with T2D were analysed from the Medical Data Vision database. In Cohort 1, the incidence rate of hospital-treated hypoglycaemia following newly prescribed iGlarLixi versus iGlar-100 was assessed. Cohort 2 was subdivided to evaluate the incidence rate of hospital-treated hypoglycaemia and severe hyperglycaemia requiring inpatient treatment in people switched to iGlarLixi from either a GLP-1 RA\\xa0±\\xa0oral antidiabetic drugs (OADs) or OADs alone (Cohort 2A) or from a GLP-1 RA and long-acting insulin\\xa0±\\xa0OADs or long-acting insulin\\xa0±\\xa0OADs (Cohort 2B).<h4>Results</h4>Of the 438 people in the iGlarLixi group and 9295 people in the iGlar-100 group in Cohort 1, who had a median follow-up duration of 52 and 44\\xa0days, respectively, there were zero and 0.011 (95% CI 0.006-0.018) events per person-year of hospital-treated hypoglycaemia, respectively. Cohort 2A included 201 people each in the GLP-1 RA\\xa0±\\xa0OADs and OADs alone groups, with a median follow-up duration of 76 and 101\\xa0days, respectively, and Cohort 2B included 255 people in the GLP-1 RA and long-acting insulin\\xa0±\\xa0OADs group and 623 people in the long-acting insulin\\xa0±\\xa0OADs group, with a median follow-up duration of 73 and 62\\xa0days, respectively; no cases of hospital-treated hypoglycaemia or severe hyperglycaemia requiring inpatient treatment were observed.<h4>Conclusion</h4>Consistent with clinical trials, this post-marketing database study observed that newly prescribed iGlarLixi has a low risk of serious hypoglycaemia or hyperglycaemia in Japanese people with T2D, irrespective of prior antidiabetic drug treatment.', 'affiliation': 'Department of Diabetes, Endocrinology and Metabolism, Kawasaki Medical School, Kurashiki, Japan.', 'publicationStatus': 'ppublish', 'language': 'eng', 'pubModel': 'Print-Electronic', 'pubTypeList': {'pubType': ['research-article', 'Journal Article', 'Observational Study']}, 'meshHeadingList': {'meshHeading': [{'majorTopic_YN': 'N', 'descriptorName': 'Humans'}, {'majorTopic_YN': 'Y', 'descriptorName': 'Diabetes Mellitus, Type 2', 'meshQualifierList': {'meshQualifier': [{'abbreviation': 'DT', 'qualifierName': 'drug therapy', 'majorTopic_YN': 'N'}]}}, {'majorTopic_YN': 'N', 'descriptorName': 'Hyperglycemia', 'meshQualifierList': {'meshQualifier': [{'abbreviation': 'CI', 'qualifierName': 'chemically induced', 'majorTopic_YN': 'N'}, {'abbreviation': 'EP', 'qualifierName': 'epidemiology', 'majorTopic_YN': 'N'}]}}, {'majorTopic_YN': 'Y', 'descriptorName': 'Hypoglycemia', 'meshQualifierList': {'meshQualifier': [{'abbreviation': 'CI', 'qualifierName': 'chemically induced', 'majorTopic_YN': 'N'}, {'abbreviation': 'EP', 'qualifierName': 'epidemiology', 'majorTopic_YN': 'N'}]}}, {'majorTopic_YN': 'Y', 'descriptorName': 'Peptides', 'meshQualifierList': {'meshQualifier': [{'abbreviation': 'AD', 'qualifierName': 'administration & dosage', 'majorTopic_YN': 'N'}, {'abbreviation': 'AE', 'qualifierName': 'adverse effects', 'majorTopic_YN': 'N'}, {'abbreviation': 'TU', 'qualifierName': 'therapeutic use', 'majorTopic_YN': 'N'}]}}, {'majorTopic_YN': 'Y', 'descriptorName': 'Hypoglycemic Agents', 'meshQualifierList': {'meshQualifier': [{'abbreviation': 'AD', 'qualifierName': 'administration & dosage', 'majorTopic_YN': 'N'}, {'abbreviation': 'AE', 'qualifierName': 'adverse effects', 'majorTopic_YN': 'N'}, {'abbreviation': 'TU', 'qualifierName': 'therapeutic use', 'majorTopic_YN': 'N'}]}}, {'majorTopic_YN': 'N', 'descriptorName': 'Retrospective Studies'}, {'majorTopic_YN': 'N', 'descriptorName': 'Product Surveillance, Postmarketing'}, {'majorTopic_YN': 'N', 'descriptorName': 'Databases, Factual'}, {'majorTopic_YN': 'N', 'descriptorName': 'Adult'}, {'majorTopic_YN': 'N', 'descriptorName': 'Aged'}, {'majorTopic_YN': 'N', 'descriptorName': 'Middle Aged'}, {'majorTopic_YN': 'N', 'descriptorName': 'Japan', 'meshQualifierList': {'meshQualifier': [{'abbreviation': 'EP', 'qualifierName': 'epidemiology', 'majorTopic_YN': 'N'}]}}, {'majorTopic_YN': 'N', 'descriptorName': 'Female'}, {'majorTopic_YN': 'N', 'descriptorName': 'Male'}, {'majorTopic_YN': 'Y', 'descriptorName': 'Insulin Glargine', 'meshQualifierList': {'meshQualifier': [{'abbreviation': 'AD', 'qualifierName': 'administration & dosage', 'majorTopic_YN': 'N'}, {'abbreviation': 'AE', 'qualifierName': 'adverse effects', 'majorTopic_YN': 'N'}, {'abbreviation': 'TU', 'qualifierName': 'therapeutic use', 'majorTopic_YN': 'N'}]}}, {'majorTopic_YN': 'N', 'descriptorName': 'Glucagon-Like Peptide-2 Receptor'}, {'majorTopic_YN': 'N', 'descriptorName': 'East Asian People'}, {'majorTopic_YN': 'N', 'descriptorName': 'Glucagon-Like Peptide-1 Receptor Agonists'}]}, 'keywordList': {'keyword': ['Type 2 diabetes', 'Japan', 'hypoglycaemia', 'Hyperglycaemia', 'Post-marketing Surveillance', 'Database Analysis', 'Iglarlixi']}, 'chemicalList': {'chemical': [{'name': 'Peptides', 'registryNumber': '0'}, {'name': 'Hypoglycemic Agents', 'registryNumber': '0'}, {'name': 'Insulin Glargine', 'registryNumber': '2ZM8CX04RZ'}, {'name': 'Glucagon-Like Peptide-2 Receptor', 'registryNumber': '0'}, {'name': 'lixisenatide', 'registryNumber': '74O62BB01U'}, {'name': 'Glucagon-Like Peptide-1 Receptor Agonists', 'registryNumber': '0'}]}, 'subsetList': {'subset': [{'code': 'IM', 'name': 'Index Medicus'}]}, 'fullTextUrlList': {'fullTextUrl': [{'availability': 'Subscription required', 'availabilityCode': 'S', 'documentStyle': 'doi', 'site': 'DOI', 'url': 'https://doi.org/10.1007/s12325-025-03135-5'}, {'availability': 'Open access', 'availabilityCode': 'OA', 'documentStyle': 'html', 'site': 'Europe_PMC', 'url': 'https://europepmc.org/articles/PMC12006214'}, {'availability': 'Open access', 'availabilityCode': 'OA', 'documentStyle': 'pdf', 'site': 'Europe_PMC', 'url': 'https://europepmc.org/articles/PMC12006214?pdf=render'}]}, 'isOpenAccess': 'Y', 'inEPMC': 'Y', 'inPMC': 'Y', 'hasPDF': 'Y', 'hasBook': 'N', 'hasSuppl': 'Y', 'citedByCount': 0, 'hasData': 'Y', 'hasReferences': 'Y', 'hasTextMinedTerms': 'Y', 'hasDbCrossReferences': 'N', 'hasLabsLinks': 'N', 'license': 'cc by-nc', 'hasEvaluations': 'N', 'authMan': 'N', 'epmcAuthMan': 'N', 'nihAuthMan': 'N', 'hasTMAccessionNumbers': 'N', 'dateOfCompletion': '2025-04-17', 'dateOfCreation': '2025-03-08', 'firstIndexDate': '2025-03-10', 'fullTextReceivedDate': '2025-04-24', 'dateOfRevision': '2025-04-22', 'electronicPublicationDate': '2025-03-08', 'firstPublicationDate': '2025-03-08'}, {'id': 'PMC11160441', 'source': 'PMC', 'pmcid': 'PMC11160441', 'fullTextIdList': {'fullTextId': ['PMC11160441']}, 'title': 'Industry news update: December 2023', 'authorString': 'McCartney F.', 'authorList': {'author': [{'fullName': 'McCartney F', 'firstName': 'Fiona', 'lastName': 'McCartney', 'initials': 'F', 'authorAffiliationDetailsList': {'authorAffiliation': [{'affiliation': 'School of Veterinary Medicine, University College Dublin, Ireland'}]}}]}, 'journalInfo': {'issue': '5', 'volume': '15', 'journalIssueId': 3932098, 'dateOfPublication': ' ', 'monthOfPublication': 0, 'yearOfPublication': 0, 'journal': {'title': 'Therapeutic Delivery', 'medlineAbbreviation': 'Therapeutic delivery', 'issn': '2041-5990'}}, 'pageInfo': '305-309', 'language': 'eng', 'pubModel': 'Undetermined', 'pubTypeList': {'pubType': ['News']}, 'keywordList': {'keyword': ['Pharmaceutical', 'Industry', 'News']}, 'fullTextUrlList': {'fullTextUrl': [{'availability': 'Free', 'availabilityCode': 'F', 'documentStyle': 'html', 'site': 'PubMedCentral', 'url': 'https://www.ncbi.nlm.nih.gov/pmc/articles/PMC11160441/?tool=EBI'}, {'availability': 'Free', 'availabilityCode': 'F', 'documentStyle': 'pdf', 'site': 'PubMedCentral', 'url': 'https://www.ncbi.nlm.nih.gov/pmc/articles/PMC11160441/pdf/?tool=EBI'}, {'availability': 'Free', 'availabilityCode': 'F', 'documentStyle': 'html', 'site': 'Europe_PMC', 'url': 'https://europepmc.org/articles/PMC11160441'}, {'availability': 'Free', 'availabilityCode': 'F', 'documentStyle': 'pdf', 'site': 'Europe_PMC', 'url': 'https://europepmc.org/articles/PMC11160441?pdf=render'}]}, 'isOpenAccess': 'N', 'inEPMC': 'Y', 'inPMC': 'Y', 'hasPDF': 'Y', 'hasBook': 'N', 'hasSuppl': 'N', 'citedByCount': 0, 'hasData': 'N', 'hasReferences': 'N', 'hasTextMinedTerms': 'Y', 'hasDbCrossReferences': 'N', 'hasLabsLinks': 'N', 'hasEvaluations': 'N', 'authMan': 'N', 'epmcAuthMan': 'N', 'nihAuthMan': 'N', 'hasTMAccessionNumbers': 'N', 'dateOfCreation': '2025-04-24', 'firstIndexDate': '2025-04-24', 'fullTextReceivedDate': '2025-04-24', 'dateOfRevision': '2025-04-24', 'firstPublicationDate': '2025-04-24', 'embargoDate': '2025-04-19'}, {'id': '39789304', 'source': 'MED', 'pmid': '39789304', 'pmcid': 'PMC11811470', 'fullTextIdList': {'fullTextId': ['PMC11811470']}, 'doi': '10.1007/s11121-024-01763-x', 'title': 'Harmful Marketing: An Overlooked Social Determinant of Health.', 'authorString': \"Westling E, Gordon J, Meng PM, O'Hara CA, Purdum B, Bonner AC, Biglan A.\", 'authorList': {'author': [{'fullName': 'Westling E', 'firstName': 'Erika', 'lastName': 'Westling', 'initials': 'E', 'authorAffiliationDetailsList': {'authorAffiliation': [{'affiliation': 'Oregon Research Institute, 3800 Sports Way, Springfield, OR, 97477, USA.'}]}}, {'fullName': 'Gordon J', 'firstName': 'James', 'lastName': 'Gordon', 'initials': 'J', 'authorAffiliationDetailsList': {'authorAffiliation': [{'affiliation': 'Fordham University, Bronx, USA.'}]}}, {'fullName': 'Meng PM', 'firstName': 'Paul M', 'lastName': 'Meng', 'initials': 'PM', 'authorAffiliationDetailsList': {'authorAffiliation': [{'affiliation': 'University of Hawaii at Mānoa, Honolulu, USA.'}]}}, {'fullName': \"O'Hara CA\", 'firstName': 'Cassandra A', 'lastName': \"O'Hara\", 'initials': 'CA', 'authorAffiliationDetailsList': {'authorAffiliation': [{'affiliation': 'University of Florida, Gainesville, USA.'}]}}, {'fullName': 'Purdum B', 'firstName': 'Brandon', 'lastName': 'Purdum', 'initials': 'B', 'authorAffiliationDetailsList': {'authorAffiliation': [{'affiliation': ', Littleton, USA.'}]}}, {'fullName': 'Bonner AC', 'firstName': 'Andrew C', 'lastName': 'Bonner', 'initials': 'AC', 'authorAffiliationDetailsList': {'authorAffiliation': [{'affiliation': 'Northeastern University, Boston, USA.'}]}}, {'fullName': 'Biglan A', 'firstName': 'Anthony', 'lastName': 'Biglan', 'initials': 'A', 'authorId': {'type': 'ORCID', 'value': '0000-0002-0820-1195'}, 'authorAffiliationDetailsList': {'authorAffiliation': [{'affiliation': 'Oregon Research Institute, 3800 Sports Way, Springfield, OR, 97477, USA. tony@ori.org.'}]}}]}, 'authorIdList': {'authorId': [{'type': 'ORCID', 'value': '0000-0002-0820-1195'}]}, 'dataLinksTagsList': {'dataLinkstag': ['altmetrics', 'supporting_data']}, 'journalInfo': {'issue': '1', 'volume': '26', 'journalIssueId': 3900697, 'dateOfPublication': '2025 Jan', 'monthOfPublication': 1, 'yearOfPublication': 2025, 'printPublicationDate': '2025-01-01', 'journal': {'title': 'Prevention science : the official journal of the Society for Prevention Research', 'medlineAbbreviation': 'Prev Sci', 'isoabbreviation': 'Prev Sci', 'nlmid': '100894724', 'issn': '1389-4986', 'essn': '1573-6695'}}, 'pubYear': '2025', 'pageInfo': '138-148', 'abstractText': 'This paper reviews evidence about the impact of marketing on ill health. We summarize evidence that marketing practices in six industries (tobacco, alcohol, pharmaceutical, processed food, firearm, and fossil fuel) are causal influences on the occurrence of injury, disease, and premature death. For each industry, we provide a brief overview on the extent of harmful marketing, efforts from each industry to obscure or otherwise conceal the impact of their marketing strategies, and efforts to counter the impact of harmful marketing in these industries. However, considering the ubiquitous belief that regulation is harmful to society, little headway has been made in reducing harmful marketing. We propose the substitution of a public health framework for the currently dominant free market ideology. Doing so would situate harmful marketing as a social determinant of health and consolidate the disparate efforts to regulate marketing of harmful products. Implications for future policy and research efforts are discussed.', 'affiliation': 'Oregon Research Institute, 3800 Sports Way, Springfield, OR, 97477, USA.', 'publicationStatus': 'ppublish', 'language': 'eng', 'pubModel': 'Print-Electronic', 'pubTypeList': {'pubType': ['research-article', 'Review', 'Journal Article']}, 'meshHeadingList': {'meshHeading': [{'majorTopic_YN': 'N', 'descriptorName': 'Humans'}, {'majorTopic_YN': 'Y', 'descriptorName': 'Marketing'}, {'majorTopic_YN': 'Y', 'descriptorName': 'Social Determinants of Health'}]}, 'keywordList': {'keyword': ['Tobacco', 'Alcohol', 'Opioids', 'Firearms', 'Guns', 'Pharmaceuticals', 'Cigarettes', 'Fossil Fuels', 'Processed Food', 'Commercial Determinants Of Health', 'Harmful Marketing']}, 'subsetList': {'subset': [{'code': 'IM', 'name': 'Index Medicus'}]}, 'fullTextUrlList': {'fullTextUrl': [{'availability': 'Open access', 'availabilityCode': 'OA', 'documentStyle': 'doi', 'site': 'Unpaywall', 'url': 'https://doi.org/10.1007/s11121-024-01763-x'}, {'availability': 'Subscription required', 'availabilityCode': 'S', 'documentStyle': 'doi', 'site': 'DOI', 'url': 'https://doi.org/10.1007/s11121-024-01763-x'}, {'availability': 'Open access', 'availabilityCode': 'OA', 'documentStyle': 'html', 'site': 'Europe_PMC', 'url': 'https://europepmc.org/articles/PMC11811470'}, {'availability': 'Open access', 'availabilityCode': 'OA', 'documentStyle': 'pdf', 'site': 'Europe_PMC', 'url': 'https://europepmc.org/articles/PMC11811470?pdf=render'}]}, 'isOpenAccess': 'Y', 'inEPMC': 'Y', 'inPMC': 'Y', 'hasPDF': 'Y', 'hasBook': 'N', 'hasSuppl': 'Y', 'citedByCount': 0, 'hasData': 'Y', 'hasReferences': 'Y', 'hasTextMinedTerms': 'Y', 'hasDbCrossReferences': 'N', 'hasLabsLinks': 'Y', 'license': 'cc by', 'hasEvaluations': 'N', 'authMan': 'N', 'epmcAuthMan': 'N', 'nihAuthMan': 'N', 'hasTMAccessionNumbers': 'N', 'dateOfCompletion': '2025-02-10', 'dateOfCreation': '2025-01-09', 'firstIndexDate': '2025-01-11', 'fullTextReceivedDate': '2025-02-15', 'dateOfRevision': '2025-02-13', 'electronicPublicationDate': '2025-01-10', 'firstPublicationDate': '2025-01-10'}]}}\n",
            "Paper 1:\n",
            "Title: Safety of iGlarLixi in Japanese People with Type 2 Diabetes: A Post-marketing Database Study.\n",
            "PMID: 40056372\n",
            "Failed to download PDF. Status code: 404\n",
            "--------------------------------------------------------------------------------\n",
            "Paper 2:\n",
            "Title: Industry news update: December 2023\n",
            "No full text ID available.\n",
            "--------------------------------------------------------------------------------\n",
            "Paper 3:\n",
            "Title: Harmful Marketing: An Overlooked Social Determinant of Health.\n",
            "PMID: 39789304\n",
            "Failed to download PDF. Status code: 404\n",
            "--------------------------------------------------------------------------------\n"
          ]
        }
      ]
    },
    {
      "cell_type": "code",
      "source": [
        "https://europepmc.org/articles/40112233"
      ],
      "metadata": {
        "id": "r0ueb3ftWyud"
      },
      "execution_count": null,
      "outputs": []
    },
    {
      "cell_type": "code",
      "source": [],
      "metadata": {
        "id": "A-ki4MiQZsir"
      },
      "execution_count": null,
      "outputs": []
    },
    {
      "cell_type": "code",
      "source": [],
      "metadata": {
        "id": "--l59f5WZsfx"
      },
      "execution_count": null,
      "outputs": []
    },
    {
      "cell_type": "code",
      "source": [
        "def download_paper(article_url, save_as=\"paper.pdf\"):\n",
        "    try:\n",
        "        # Set headers to mimic a browser (sometimes necessary)\n",
        "        headers = {\n",
        "            \"User-Agent\": \"Mozilla/5.0\"\n",
        "        }\n",
        "\n",
        "        # Send request\n",
        "        response = requests.get(article_url, headers=headers)\n",
        "\n",
        "        # Check if successful\n",
        "        if response.status_code == 200:\n",
        "            with open(save_as, \"wb\") as f:\n",
        "                f.write(response.content)\n",
        "            print(f\"PDF downloaded successfully and saved as '{save_as}'\")\n",
        "        else:\n",
        "            print(f\"Failed to download PDF. Status code: {response.status_code}\")\n",
        "    except Exception as e:\n",
        "        print(f\"Error: {e}\")\n",
        "\n",
        "# Example usage\n",
        "download_paper(\"https://europepmc.org/articles/PMC11949217?pdf=render\", \"PMC11949217.pdf\")"
      ],
      "metadata": {
        "colab": {
          "base_uri": "https://localhost:8080/"
        },
        "id": "vM6CTNRfZscs",
        "outputId": "f7e20c27-9a03-4fdf-8ede-09ff7832d39a"
      },
      "execution_count": 5,
      "outputs": [
        {
          "output_type": "stream",
          "name": "stdout",
          "text": [
            "PDF downloaded successfully and saved as 'PMC11949217.pdf'\n"
          ]
        }
      ]
    },
    {
      "cell_type": "code",
      "source": [
        "\"https://europepmc.org/articles/{pmid}?pdf=render\""
      ],
      "metadata": {
        "id": "FDWwol24ZsOw"
      },
      "execution_count": null,
      "outputs": []
    }
  ]
}