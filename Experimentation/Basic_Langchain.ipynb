{
  "nbformat": 4,
  "nbformat_minor": 0,
  "metadata": {
    "colab": {
      "provenance": [],
      "include_colab_link": true
    },
    "kernelspec": {
      "name": "python3",
      "display_name": "Python 3"
    },
    "language_info": {
      "name": "python"
    }
  },
  "cells": [
    {
      "cell_type": "markdown",
      "metadata": {
        "id": "view-in-github",
        "colab_type": "text"
      },
      "source": [
        "<a href=\"https://colab.research.google.com/github/MohanVarmaDhana/Dhanamo-AI/blob/main/Experimentation/Basic_Langchain.ipynb\" target=\"_parent\"><img src=\"https://colab.research.google.com/assets/colab-badge.svg\" alt=\"Open In Colab\"/></a>"
      ]
    },
    {
      "cell_type": "code",
      "source": [],
      "metadata": {
        "id": "12M8aJ7k3J6W"
      },
      "execution_count": null,
      "outputs": []
    },
    {
      "cell_type": "code",
      "execution_count": 12,
      "metadata": {
        "id": "371YdCnvnKy0"
      },
      "outputs": [],
      "source": [
        "!pip install -qU \"langchain[google-genai]\""
      ]
    },
    {
      "cell_type": "code",
      "source": [
        "import os\n",
        "import getpass\n",
        "from langchain.chat_models import init_chat_model\n",
        "from langchain_core.messages import HumanMessage, SystemMessage\n",
        "from langchain_core.prompts import ChatPromptTemplate"
      ],
      "metadata": {
        "id": "9lwzZKaR0crB"
      },
      "execution_count": 22,
      "outputs": []
    },
    {
      "cell_type": "code",
      "source": [
        "if not os.environ.get('GOOGLE_API_KEY'):\n",
        "  os.environ['GOOGLE_API_KEY'] = getpass.getpass('Enter Gemini Key')"
      ],
      "metadata": {
        "colab": {
          "base_uri": "https://localhost:8080/"
        },
        "id": "aOiNYlMJ0cn7",
        "outputId": "b2953202-cc81-4f33-fb51-cb455a963438"
      },
      "execution_count": 18,
      "outputs": [
        {
          "name": "stdout",
          "output_type": "stream",
          "text": [
            "Enter Gemini Key··········\n"
          ]
        }
      ]
    },
    {
      "cell_type": "code",
      "source": [
        "model = init_chat_model(\"gemini-2.0-flash\", model_provider=\"google_genai\")"
      ],
      "metadata": {
        "id": "yp0mg2rT0chF"
      },
      "execution_count": 19,
      "outputs": []
    },
    {
      "cell_type": "code",
      "source": [
        "messages = [\n",
        "    SystemMessage('Translate the following message to Telugu'),\n",
        "    HumanMessage('Hi!')\n",
        "]"
      ],
      "metadata": {
        "id": "nFadrldG2YYY"
      },
      "execution_count": 20,
      "outputs": []
    },
    {
      "cell_type": "code",
      "source": [
        "model.invoke(messages)"
      ],
      "metadata": {
        "colab": {
          "base_uri": "https://localhost:8080/"
        },
        "id": "7yGa-3YM0cWs",
        "outputId": "4da1c214-adb6-4dbd-df74-74422cb17a1a"
      },
      "execution_count": 21,
      "outputs": [
        {
          "output_type": "execute_result",
          "data": {
            "text/plain": [
              "AIMessage(content='హాయ్!', additional_kwargs={}, response_metadata={'prompt_feedback': {'block_reason': 0, 'safety_ratings': []}, 'finish_reason': 'STOP', 'model_name': 'gemini-2.0-flash', 'safety_ratings': []}, id='run-8bd7d553-728e-4299-ab1b-4ce7082d45e7-0', usage_metadata={'input_tokens': 8, 'output_tokens': 5, 'total_tokens': 13, 'input_token_details': {'cache_read': 0}})"
            ]
          },
          "metadata": {},
          "execution_count": 21
        }
      ]
    },
    {
      "cell_type": "code",
      "source": [
        "system_template = \"Translate this text into {language}\"\n",
        "prompt_template = ChatPromptTemplate.from_messages([\n",
        "    (\"system\", system_template),(\"user\", \"{text}\")\n",
        "])"
      ],
      "metadata": {
        "id": "fYyYfqb7BREb"
      },
      "execution_count": 23,
      "outputs": []
    },
    {
      "cell_type": "code",
      "source": [
        "prompt = prompt_template.invoke({\"language\": \"telugu\", \"text\": 'hello'})"
      ],
      "metadata": {
        "id": "I6LN4hvBBQx-"
      },
      "execution_count": 24,
      "outputs": []
    },
    {
      "cell_type": "code",
      "source": [
        "model.invoke(prompt)"
      ],
      "metadata": {
        "id": "0eO7y0MjBQfv",
        "outputId": "82d28e59-1dc9-4d5b-9068-739d4c3bf8a9",
        "colab": {
          "base_uri": "https://localhost:8080/"
        }
      },
      "execution_count": 25,
      "outputs": [
        {
          "output_type": "execute_result",
          "data": {
            "text/plain": [
              "AIMessage(content='\"Hello\" అనే పదాన్ని తెలుగులో చాలా రకాలుగా చెప్పవచ్చు. సందర్భాన్ని బట్టి వీటిలో ఏదైనా ఉపయోగించవచ్చు:\\n\\n*   **నమస్కారం** (Namaskaram): ఇది చాలా మర్యాదగా పలకరించే పద్ధతి.\\n*   **నమస్తే** (Namaste): ఇది కూడా సాధారణంగా ఉపయోగించే పలకరింపు.\\n*   **బాగున్నారా?** (Bagunnara?): ఇది \"How are you?\" అని అడగడానికి సమానం.\\n*   **ఏంటి విశేషాలు?** (Enti visheshalu?): ఇది \"What\\'s up?\" అని అడగడానికి సమానం.\\n\\nకాబట్టి, మీరు ఎవరినైనా పలకరించడానికి \"నమస్కారం\" లేదా \"నమస్తే\" ఉపయోగించవచ్చు.', additional_kwargs={}, response_metadata={'prompt_feedback': {'block_reason': 0, 'safety_ratings': []}, 'finish_reason': 'STOP', 'model_name': 'gemini-2.0-flash', 'safety_ratings': []}, id='run-fda6706e-150d-4051-90c1-579d8eec0af0-0', usage_metadata={'input_tokens': 9, 'output_tokens': 252, 'total_tokens': 261, 'input_token_details': {'cache_read': 0}})"
            ]
          },
          "metadata": {},
          "execution_count": 25
        }
      ]
    },
    {
      "cell_type": "code",
      "source": [],
      "metadata": {
        "id": "A14XIEAoBQIo"
      },
      "execution_count": null,
      "outputs": []
    },
    {
      "cell_type": "code",
      "source": [],
      "metadata": {
        "id": "k-1V-K6NBPcu"
      },
      "execution_count": null,
      "outputs": []
    },
    {
      "cell_type": "code",
      "source": [],
      "metadata": {
        "id": "c4LgM8rt11Gh"
      },
      "execution_count": null,
      "outputs": []
    },
    {
      "cell_type": "code",
      "source": [],
      "metadata": {
        "id": "CsjK2q5E11Vi"
      },
      "execution_count": null,
      "outputs": []
    },
    {
      "cell_type": "code",
      "source": [],
      "metadata": {
        "id": "FmmAksyZ11fs"
      },
      "execution_count": null,
      "outputs": []
    },
    {
      "cell_type": "code",
      "source": [],
      "metadata": {
        "id": "dJ12uKEy122L"
      },
      "execution_count": null,
      "outputs": []
    }
  ]
}